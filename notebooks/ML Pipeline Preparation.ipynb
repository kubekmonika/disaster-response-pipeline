{
 "cells": [
  {
   "cell_type": "markdown",
   "metadata": {},
   "source": [
    "# ML Pipeline Preparation\n",
    "Follow the instructions below to help you create your ML pipeline.\n",
    "### 1. Import libraries and load data from database.\n",
    "- Import Python libraries\n",
    "- Load dataset from database with [`read_sql_table`](https://pandas.pydata.org/pandas-docs/stable/generated/pandas.read_sql_table.html)\n",
    "- Define feature and target variables X and Y"
   ]
  },
  {
   "cell_type": "code",
   "execution_count": 11,
   "metadata": {},
   "outputs": [],
   "source": [
    "# import libraries\n",
    "import sqlite3\n",
    "import pandas as pd\n",
    "import numpy as np\n",
    "import re\n",
    "\n",
    "from sklearn.model_selection import train_test_split, GridSearchCV\n",
    "from sklearn.pipeline import Pipeline\n",
    "from sklearn.multioutput import MultiOutputClassifier\n",
    "from sklearn.feature_extraction.text import CountVectorizer, TfidfTransformer\n",
    "from sklearn.metrics import classification_report\n",
    "from sklearn.feature_selection import VarianceThreshold\n",
    "\n",
    "from joblib import parallel_backend"
   ]
  },
  {
   "cell_type": "code",
   "execution_count": 10,
   "metadata": {},
   "outputs": [],
   "source": [
    "from sklearn.linear_model import RidgeClassifier\n",
    "from sklearn.neighbors import KNeighborsClassifier"
   ]
  },
  {
   "cell_type": "code",
   "execution_count": 2,
   "metadata": {},
   "outputs": [],
   "source": [
    "# load data from database\n",
    "conn = sqlite3.connect('disaster-messages.db')\n",
    "df = pd.read_sql('SELECT * FROM messages', conn).drop('id', axis=1)\n",
    "x = df['message']\n",
    "Y = df.drop(['message', 'original', 'genre'], axis=1)"
   ]
  },
  {
   "cell_type": "code",
   "execution_count": 3,
   "metadata": {},
   "outputs": [
    {
     "data": {
      "text/html": [
       "<div>\n",
       "<style scoped>\n",
       "    .dataframe tbody tr th:only-of-type {\n",
       "        vertical-align: middle;\n",
       "    }\n",
       "\n",
       "    .dataframe tbody tr th {\n",
       "        vertical-align: top;\n",
       "    }\n",
       "\n",
       "    .dataframe thead th {\n",
       "        text-align: right;\n",
       "    }\n",
       "</style>\n",
       "<table border=\"1\" class=\"dataframe\">\n",
       "  <thead>\n",
       "    <tr style=\"text-align: right;\">\n",
       "      <th></th>\n",
       "      <th>message</th>\n",
       "      <th>original</th>\n",
       "      <th>genre</th>\n",
       "      <th>request</th>\n",
       "      <th>offer</th>\n",
       "      <th>aid_related</th>\n",
       "      <th>medical_help</th>\n",
       "      <th>medical_products</th>\n",
       "      <th>search_and_rescue</th>\n",
       "      <th>security</th>\n",
       "      <th>...</th>\n",
       "      <th>aid_centers</th>\n",
       "      <th>other_infrastructure</th>\n",
       "      <th>weather_related</th>\n",
       "      <th>floods</th>\n",
       "      <th>storm</th>\n",
       "      <th>fire</th>\n",
       "      <th>earthquake</th>\n",
       "      <th>cold</th>\n",
       "      <th>other_weather</th>\n",
       "      <th>direct_report</th>\n",
       "    </tr>\n",
       "  </thead>\n",
       "  <tbody>\n",
       "    <tr>\n",
       "      <th>0</th>\n",
       "      <td>Weather update - a cold front from Cuba that c...</td>\n",
       "      <td>Un front froid se retrouve sur Cuba ce matin. ...</td>\n",
       "      <td>direct</td>\n",
       "      <td>0</td>\n",
       "      <td>0</td>\n",
       "      <td>0</td>\n",
       "      <td>0</td>\n",
       "      <td>0</td>\n",
       "      <td>0</td>\n",
       "      <td>0</td>\n",
       "      <td>...</td>\n",
       "      <td>0</td>\n",
       "      <td>0</td>\n",
       "      <td>0</td>\n",
       "      <td>0</td>\n",
       "      <td>0</td>\n",
       "      <td>0</td>\n",
       "      <td>0</td>\n",
       "      <td>0</td>\n",
       "      <td>0</td>\n",
       "      <td>0</td>\n",
       "    </tr>\n",
       "    <tr>\n",
       "      <th>1</th>\n",
       "      <td>Is the Hurricane over or is it not over</td>\n",
       "      <td>Cyclone nan fini osinon li pa fini</td>\n",
       "      <td>direct</td>\n",
       "      <td>0</td>\n",
       "      <td>0</td>\n",
       "      <td>1</td>\n",
       "      <td>0</td>\n",
       "      <td>0</td>\n",
       "      <td>0</td>\n",
       "      <td>0</td>\n",
       "      <td>...</td>\n",
       "      <td>0</td>\n",
       "      <td>0</td>\n",
       "      <td>1</td>\n",
       "      <td>0</td>\n",
       "      <td>1</td>\n",
       "      <td>0</td>\n",
       "      <td>0</td>\n",
       "      <td>0</td>\n",
       "      <td>0</td>\n",
       "      <td>0</td>\n",
       "    </tr>\n",
       "    <tr>\n",
       "      <th>2</th>\n",
       "      <td>Looking for someone but no name</td>\n",
       "      <td>Patnm, di Maryani relem pou li banm nouvel li ...</td>\n",
       "      <td>direct</td>\n",
       "      <td>0</td>\n",
       "      <td>0</td>\n",
       "      <td>0</td>\n",
       "      <td>0</td>\n",
       "      <td>0</td>\n",
       "      <td>0</td>\n",
       "      <td>0</td>\n",
       "      <td>...</td>\n",
       "      <td>0</td>\n",
       "      <td>0</td>\n",
       "      <td>0</td>\n",
       "      <td>0</td>\n",
       "      <td>0</td>\n",
       "      <td>0</td>\n",
       "      <td>0</td>\n",
       "      <td>0</td>\n",
       "      <td>0</td>\n",
       "      <td>0</td>\n",
       "    </tr>\n",
       "    <tr>\n",
       "      <th>3</th>\n",
       "      <td>UN reports Leogane 80-90 destroyed. Only Hospi...</td>\n",
       "      <td>UN reports Leogane 80-90 destroyed. Only Hospi...</td>\n",
       "      <td>direct</td>\n",
       "      <td>1</td>\n",
       "      <td>0</td>\n",
       "      <td>1</td>\n",
       "      <td>0</td>\n",
       "      <td>1</td>\n",
       "      <td>0</td>\n",
       "      <td>0</td>\n",
       "      <td>...</td>\n",
       "      <td>0</td>\n",
       "      <td>0</td>\n",
       "      <td>0</td>\n",
       "      <td>0</td>\n",
       "      <td>0</td>\n",
       "      <td>0</td>\n",
       "      <td>0</td>\n",
       "      <td>0</td>\n",
       "      <td>0</td>\n",
       "      <td>0</td>\n",
       "    </tr>\n",
       "    <tr>\n",
       "      <th>4</th>\n",
       "      <td>says: west side of Haiti, rest of the country ...</td>\n",
       "      <td>facade ouest d Haiti et le reste du pays aujou...</td>\n",
       "      <td>direct</td>\n",
       "      <td>0</td>\n",
       "      <td>0</td>\n",
       "      <td>0</td>\n",
       "      <td>0</td>\n",
       "      <td>0</td>\n",
       "      <td>0</td>\n",
       "      <td>0</td>\n",
       "      <td>...</td>\n",
       "      <td>0</td>\n",
       "      <td>0</td>\n",
       "      <td>0</td>\n",
       "      <td>0</td>\n",
       "      <td>0</td>\n",
       "      <td>0</td>\n",
       "      <td>0</td>\n",
       "      <td>0</td>\n",
       "      <td>0</td>\n",
       "      <td>0</td>\n",
       "    </tr>\n",
       "  </tbody>\n",
       "</table>\n",
       "<p>5 rows × 37 columns</p>\n",
       "</div>"
      ],
      "text/plain": [
       "                                             message  \\\n",
       "0  Weather update - a cold front from Cuba that c...   \n",
       "1            Is the Hurricane over or is it not over   \n",
       "2                    Looking for someone but no name   \n",
       "3  UN reports Leogane 80-90 destroyed. Only Hospi...   \n",
       "4  says: west side of Haiti, rest of the country ...   \n",
       "\n",
       "                                            original   genre  request  offer  \\\n",
       "0  Un front froid se retrouve sur Cuba ce matin. ...  direct        0      0   \n",
       "1                 Cyclone nan fini osinon li pa fini  direct        0      0   \n",
       "2  Patnm, di Maryani relem pou li banm nouvel li ...  direct        0      0   \n",
       "3  UN reports Leogane 80-90 destroyed. Only Hospi...  direct        1      0   \n",
       "4  facade ouest d Haiti et le reste du pays aujou...  direct        0      0   \n",
       "\n",
       "   aid_related  medical_help  medical_products  search_and_rescue  security  \\\n",
       "0            0             0                 0                  0         0   \n",
       "1            1             0                 0                  0         0   \n",
       "2            0             0                 0                  0         0   \n",
       "3            1             0                 1                  0         0   \n",
       "4            0             0                 0                  0         0   \n",
       "\n",
       "   ...  aid_centers  other_infrastructure  weather_related  floods  storm  \\\n",
       "0  ...            0                     0                0       0      0   \n",
       "1  ...            0                     0                1       0      1   \n",
       "2  ...            0                     0                0       0      0   \n",
       "3  ...            0                     0                0       0      0   \n",
       "4  ...            0                     0                0       0      0   \n",
       "\n",
       "   fire  earthquake  cold  other_weather  direct_report  \n",
       "0     0           0     0              0              0  \n",
       "1     0           0     0              0              0  \n",
       "2     0           0     0              0              0  \n",
       "3     0           0     0              0              0  \n",
       "4     0           0     0              0              0  \n",
       "\n",
       "[5 rows x 37 columns]"
      ]
     },
     "execution_count": 3,
     "metadata": {},
     "output_type": "execute_result"
    }
   ],
   "source": [
    "df.head()"
   ]
  },
  {
   "cell_type": "code",
   "execution_count": 4,
   "metadata": {},
   "outputs": [
    {
     "data": {
      "text/plain": [
       "<AxesSubplot:>"
      ]
     },
     "execution_count": 4,
     "metadata": {},
     "output_type": "execute_result"
    },
    {
     "data": {
      "image/png": "[encoded data removed]",
      "text/plain": [
       "<Figure size 432x288 with 1 Axes>"
      ]
     },
     "metadata": {
      "needs_background": "light"
     },
     "output_type": "display_data"
    }
   ],
   "source": [
    "Y.sum().plot(kind='bar')"
   ]
  },
  {
   "cell_type": "markdown",
   "metadata": {},
   "source": [
    "### 2. Write a tokenization function to process your text data"
   ]
  },
  {
   "cell_type": "code",
   "execution_count": 5,
   "metadata": {},
   "outputs": [],
   "source": [
    "import nltk\n",
    "\n",
    "from nltk.corpus import stopwords\n",
    "from nltk.stem.wordnet import WordNetLemmatizer\n",
    "from nltk.tokenize import word_tokenize\n",
    "\n",
    "from collections import defaultdict"
   ]
  },
  {
   "cell_type": "code",
   "execution_count": 6,
   "metadata": {},
   "outputs": [
    {
     "name": "stderr",
     "output_type": "stream",
     "text": [
      "[nltk_data] Downloading package stopwords to\n",
      "[nltk_data]     /Users/monikakubek/nltk_data...\n",
      "[nltk_data]   Package stopwords is already up-to-date!\n",
      "[nltk_data] Downloading package wordnet to\n",
      "[nltk_data]     /Users/monikakubek/nltk_data...\n",
      "[nltk_data]   Package wordnet is already up-to-date!\n",
      "[nltk_data] Downloading package punkt to\n",
      "[nltk_data]     /Users/monikakubek/nltk_data...\n",
      "[nltk_data]   Package punkt is already up-to-date!\n",
      "[nltk_data] Downloading package averaged_perceptron_tagger to\n",
      "[nltk_data]     /Users/monikakubek/nltk_data...\n",
      "[nltk_data]   Package averaged_perceptron_tagger is already up-to-\n",
      "[nltk_data]       date!\n",
      "[nltk_data] Downloading package universal_tagset to\n",
      "[nltk_data]     /Users/monikakubek/nltk_data...\n",
      "[nltk_data]   Package universal_tagset is already up-to-date!\n"
     ]
    },
    {
     "data": {
      "text/plain": [
       "True"
      ]
     },
     "execution_count": 6,
     "metadata": {},
     "output_type": "execute_result"
    }
   ],
   "source": [
    "nltk.download('stopwords')\n",
    "nltk.download('wordnet')\n",
    "nltk.download('punkt')\n",
    "nltk.download('averaged_perceptron_tagger')\n",
    "nltk.download('universal_tagset')"
   ]
  },
  {
   "cell_type": "code",
   "execution_count": 7,
   "metadata": {},
   "outputs": [],
   "source": [
    "stop_words = stopwords.words(\"english\")\n",
    "lemmatizer = WordNetLemmatizer()"
   ]
  },
  {
   "cell_type": "code",
   "execution_count": 8,
   "metadata": {},
   "outputs": [],
   "source": [
    "# sources: \n",
    "# https://stackoverflow.com/posts/57686805/revisions\n",
    "# https://www.nltk.org/_modules/nltk/tag/mapping.html\n",
    "pos_refs = defaultdict(lambda: 'n')\n",
    "pos_refs['VERB'] = 'v'\n",
    "pos_refs['ADJ'] = 'a'\n",
    "pos_refs['ADV'] = 'r'\n",
    "pos_refs['NOUN'] = 'n'\n",
    "\n",
    "\n",
    "url_regex = 'http[s]?://(?:[a-zA-Z]|[0-9]|[$-_@.&+]|[!*\\(\\),]|(?:%[0-9a-fA-F][0-9a-fA-F]))+'\n",
    "\n",
    "def tokenize(text):\n",
    "    detected_urls = re.findall(url_regex, text)\n",
    "    for url in detected_urls:\n",
    "        text = text.replace(url, \"\")\n",
    "    # normalize case and remove punctuation\n",
    "    text = re.sub(r\"[^a-zA-Z0-9]\", \" \", text.lower())\n",
    "\n",
    "    # remove numbers\n",
    "    text = re.sub(r\"\\d+\", \" \", text.lower())\n",
    "\n",
    "    # tokenize\n",
    "    tokens = [word for word in word_tokenize(text) if word not in stop_words]\n",
    "\n",
    "    # get pos tags for the tokns\n",
    "    tokens_pos = nltk.pos_tag(tokens, tagset='universal')\n",
    "\n",
    "    # lemmatize\n",
    "    tokens = [lemmatizer.lemmatize(word, pos=pos_refs[pos]) for word, pos in tokens_pos]\n",
    "\n",
    "    return tokens"
   ]
  },
  {
   "cell_type": "code",
   "execution_count": 9,
   "metadata": {},
   "outputs": [],
   "source": [
    "x_train, x_test, Y_train, Y_test = train_test_split(x, Y, random_state=38)"
   ]
  },
  {
   "cell_type": "markdown",
   "metadata": {},
   "source": [
    "### 3. Build a machine learning pipeline\n",
    "This machine pipeline should take in the `message` column as input and output classification results on the other 36 categories in the dataset. You may find the [MultiOutputClassifier](http://scikit-learn.org/stable/modules/generated/sklearn.multioutput.MultiOutputClassifier.html) helpful for predicting multiple target variables."
   ]
  },
  {
   "cell_type": "code",
   "execution_count": 55,
   "metadata": {},
   "outputs": [],
   "source": [
    "pipeline0 = Pipeline([\n",
    "    ('vect', CountVectorizer(tokenizer=tokenize, max_df=0.1, min_df=30)),\n",
    "    ('tfidf', TfidfTransformer()),\n",
    "    ('clf', MultiOutputClassifier(RidgeClassifier(class_weight='balanced')))\n",
    "], verbose=1)"
   ]
  },
  {
   "cell_type": "markdown",
   "metadata": {},
   "source": [
    "### 4. Train pipeline\n",
    "- Split data into train and test sets\n",
    "- Train pipeline"
   ]
  },
  {
   "cell_type": "markdown",
   "metadata": {},
   "source": [
    "KNN"
   ]
  },
  {
   "cell_type": "code",
   "execution_count": 29,
   "metadata": {},
   "outputs": [
    {
     "name": "stdout",
     "output_type": "stream",
     "text": [
      "[Pipeline] .............. (step 1 of 3) Processing vect, total=  16.4s\n",
      "[Pipeline] ............. (step 2 of 3) Processing tfidf, total=   0.0s\n",
      "[Pipeline] ............... (step 3 of 3) Processing clf, total=   0.0s\n",
      "CPU times: user 1min 12s, sys: 17.6 s, total: 1min 30s\n",
      "Wall time: 1min 30s\n"
     ]
    },
    {
     "data": {
      "text/plain": [
       "0.4316712834718375"
      ]
     },
     "execution_count": 29,
     "metadata": {},
     "output_type": "execute_result"
    }
   ],
   "source": [
    "%%time \n",
    "pipeline0.fit(x_train, Y_train)\n",
    "# Y_pred = pipeline0.predict(x_test)\n",
    "pipeline0.score(x_test, Y_test)"
   ]
  },
  {
   "cell_type": "markdown",
   "metadata": {},
   "source": [
    "Ridge"
   ]
  },
  {
   "cell_type": "code",
   "execution_count": 56,
   "metadata": {},
   "outputs": [
    {
     "name": "stdout",
     "output_type": "stream",
     "text": [
      "[Pipeline] .............. (step 1 of 3) Processing vect, total=  16.4s\n",
      "[Pipeline] ............. (step 2 of 3) Processing tfidf, total=   0.0s\n",
      "[Pipeline] ............... (step 3 of 3) Processing clf, total=   0.9s\n",
      "CPU times: user 22.4 s, sys: 322 ms, total: 22.7 s\n",
      "Wall time: 22.7 s\n"
     ]
    },
    {
     "data": {
      "text/plain": [
       "0.08633425669436749"
      ]
     },
     "execution_count": 56,
     "metadata": {},
     "output_type": "execute_result"
    }
   ],
   "source": [
    "%%time \n",
    "pipeline0.fit(x_train, Y_train)\n",
    "# Y_pred = pipeline0.predict(x_test)\n",
    "pipeline0.score(x_test, Y_test)"
   ]
  },
  {
   "cell_type": "markdown",
   "metadata": {},
   "source": [
    "### 5. Test your model\n",
    "Report the f1 score, precision and recall for each output category of the dataset. You can do this by iterating through the columns and calling sklearn's `classification_report` on each."
   ]
  },
  {
   "cell_type": "code",
   "execution_count": 64,
   "metadata": {},
   "outputs": [
    {
     "name": "stdout",
     "output_type": "stream",
     "text": [
      "Mean F1 score:\n",
      " precision    0.921360\n",
      "recall       0.552039\n",
      "f1-score     0.666252\n",
      "dtype: float64\n"
     ]
    },
    {
     "data": {
      "text/html": [
       "<div>\n",
       "<style scoped>\n",
       "    .dataframe tbody tr th:only-of-type {\n",
       "        vertical-align: middle;\n",
       "    }\n",
       "\n",
       "    .dataframe tbody tr th {\n",
       "        vertical-align: top;\n",
       "    }\n",
       "\n",
       "    .dataframe thead th {\n",
       "        text-align: right;\n",
       "    }\n",
       "</style>\n",
       "<table border=\"1\" class=\"dataframe\">\n",
       "  <thead>\n",
       "    <tr style=\"text-align: right;\">\n",
       "      <th></th>\n",
       "      <th>precision</th>\n",
       "      <th>recall</th>\n",
       "      <th>f1-score</th>\n",
       "    </tr>\n",
       "  </thead>\n",
       "  <tbody>\n",
       "    <tr>\n",
       "      <th>request</th>\n",
       "      <td>0.827234</td>\n",
       "      <td>0.643275</td>\n",
       "      <td>0.687568</td>\n",
       "    </tr>\n",
       "    <tr>\n",
       "      <th>offer</th>\n",
       "      <td>0.991835</td>\n",
       "      <td>0.512158</td>\n",
       "      <td>0.674316</td>\n",
       "    </tr>\n",
       "    <tr>\n",
       "      <th>aid_related</th>\n",
       "      <td>0.765638</td>\n",
       "      <td>0.760542</td>\n",
       "      <td>0.761855</td>\n",
       "    </tr>\n",
       "    <tr>\n",
       "      <th>medical_help</th>\n",
       "      <td>0.887932</td>\n",
       "      <td>0.540782</td>\n",
       "      <td>0.638466</td>\n",
       "    </tr>\n",
       "    <tr>\n",
       "      <th>medical_products</th>\n",
       "      <td>0.927340</td>\n",
       "      <td>0.530625</td>\n",
       "      <td>0.651099</td>\n",
       "    </tr>\n",
       "    <tr>\n",
       "      <th>search_and_rescue</th>\n",
       "      <td>0.957512</td>\n",
       "      <td>0.516620</td>\n",
       "      <td>0.657833</td>\n",
       "    </tr>\n",
       "    <tr>\n",
       "      <th>security</th>\n",
       "      <td>0.967671</td>\n",
       "      <td>0.516159</td>\n",
       "      <td>0.665754</td>\n",
       "    </tr>\n",
       "    <tr>\n",
       "      <th>military</th>\n",
       "      <td>0.938166</td>\n",
       "      <td>0.511388</td>\n",
       "      <td>0.649017</td>\n",
       "    </tr>\n",
       "    <tr>\n",
       "      <th>water</th>\n",
       "      <td>0.933736</td>\n",
       "      <td>0.564943</td>\n",
       "      <td>0.670840</td>\n",
       "    </tr>\n",
       "    <tr>\n",
       "      <th>food</th>\n",
       "      <td>0.882806</td>\n",
       "      <td>0.610649</td>\n",
       "      <td>0.682194</td>\n",
       "    </tr>\n",
       "    <tr>\n",
       "      <th>shelter</th>\n",
       "      <td>0.899278</td>\n",
       "      <td>0.583102</td>\n",
       "      <td>0.668006</td>\n",
       "    </tr>\n",
       "    <tr>\n",
       "      <th>clothing</th>\n",
       "      <td>0.973688</td>\n",
       "      <td>0.509849</td>\n",
       "      <td>0.660508</td>\n",
       "    </tr>\n",
       "    <tr>\n",
       "      <th>money</th>\n",
       "      <td>0.963162</td>\n",
       "      <td>0.508002</td>\n",
       "      <td>0.654567</td>\n",
       "    </tr>\n",
       "    <tr>\n",
       "      <th>missing_people</th>\n",
       "      <td>0.977688</td>\n",
       "      <td>0.509695</td>\n",
       "      <td>0.663849</td>\n",
       "    </tr>\n",
       "    <tr>\n",
       "      <th>refugees</th>\n",
       "      <td>0.943470</td>\n",
       "      <td>0.503386</td>\n",
       "      <td>0.638157</td>\n",
       "    </tr>\n",
       "    <tr>\n",
       "      <th>death</th>\n",
       "      <td>0.931181</td>\n",
       "      <td>0.519083</td>\n",
       "      <td>0.641734</td>\n",
       "    </tr>\n",
       "    <tr>\n",
       "      <th>other_aid</th>\n",
       "      <td>0.845036</td>\n",
       "      <td>0.586334</td>\n",
       "      <td>0.656624</td>\n",
       "    </tr>\n",
       "    <tr>\n",
       "      <th>infrastructure_related</th>\n",
       "      <td>0.890570</td>\n",
       "      <td>0.535242</td>\n",
       "      <td>0.644128</td>\n",
       "    </tr>\n",
       "    <tr>\n",
       "      <th>transport</th>\n",
       "      <td>0.921882</td>\n",
       "      <td>0.517082</td>\n",
       "      <td>0.643581</td>\n",
       "    </tr>\n",
       "    <tr>\n",
       "      <th>buildings</th>\n",
       "      <td>0.923694</td>\n",
       "      <td>0.541551</td>\n",
       "      <td>0.656601</td>\n",
       "    </tr>\n",
       "    <tr>\n",
       "      <th>electricity</th>\n",
       "      <td>0.964261</td>\n",
       "      <td>0.497076</td>\n",
       "      <td>0.646382</td>\n",
       "    </tr>\n",
       "    <tr>\n",
       "      <th>tools</th>\n",
       "      <td>0.990447</td>\n",
       "      <td>0.511542</td>\n",
       "      <td>0.671501</td>\n",
       "    </tr>\n",
       "    <tr>\n",
       "      <th>hospitals</th>\n",
       "      <td>0.975831</td>\n",
       "      <td>0.511234</td>\n",
       "      <td>0.667279</td>\n",
       "    </tr>\n",
       "    <tr>\n",
       "      <th>shops</th>\n",
       "      <td>0.988954</td>\n",
       "      <td>0.511542</td>\n",
       "      <td>0.671813</td>\n",
       "    </tr>\n",
       "    <tr>\n",
       "      <th>aid_centers</th>\n",
       "      <td>0.978008</td>\n",
       "      <td>0.503386</td>\n",
       "      <td>0.659142</td>\n",
       "    </tr>\n",
       "    <tr>\n",
       "      <th>other_infrastructure</th>\n",
       "      <td>0.923274</td>\n",
       "      <td>0.518775</td>\n",
       "      <td>0.644722</td>\n",
       "    </tr>\n",
       "    <tr>\n",
       "      <th>weather_related</th>\n",
       "      <td>0.829076</td>\n",
       "      <td>0.781010</td>\n",
       "      <td>0.790729</td>\n",
       "    </tr>\n",
       "    <tr>\n",
       "      <th>floods</th>\n",
       "      <td>0.892072</td>\n",
       "      <td>0.556017</td>\n",
       "      <td>0.649689</td>\n",
       "    </tr>\n",
       "    <tr>\n",
       "      <th>storm</th>\n",
       "      <td>0.887729</td>\n",
       "      <td>0.586180</td>\n",
       "      <td>0.668960</td>\n",
       "    </tr>\n",
       "    <tr>\n",
       "      <th>fire</th>\n",
       "      <td>0.977010</td>\n",
       "      <td>0.505386</td>\n",
       "      <td>0.661692</td>\n",
       "    </tr>\n",
       "    <tr>\n",
       "      <th>earthquake</th>\n",
       "      <td>0.911193</td>\n",
       "      <td>0.608187</td>\n",
       "      <td>0.689085</td>\n",
       "    </tr>\n",
       "    <tr>\n",
       "      <th>cold</th>\n",
       "      <td>0.958955</td>\n",
       "      <td>0.505540</td>\n",
       "      <td>0.653890</td>\n",
       "    </tr>\n",
       "    <tr>\n",
       "      <th>other_weather</th>\n",
       "      <td>0.907811</td>\n",
       "      <td>0.519083</td>\n",
       "      <td>0.638927</td>\n",
       "    </tr>\n",
       "    <tr>\n",
       "      <th>direct_report</th>\n",
       "      <td>0.792098</td>\n",
       "      <td>0.633887</td>\n",
       "      <td>0.672063</td>\n",
       "    </tr>\n",
       "  </tbody>\n",
       "</table>\n",
       "</div>"
      ],
      "text/plain": [
       "                        precision    recall  f1-score\n",
       "request                  0.827234  0.643275  0.687568\n",
       "offer                    0.991835  0.512158  0.674316\n",
       "aid_related              0.765638  0.760542  0.761855\n",
       "medical_help             0.887932  0.540782  0.638466\n",
       "medical_products         0.927340  0.530625  0.651099\n",
       "search_and_rescue        0.957512  0.516620  0.657833\n",
       "security                 0.967671  0.516159  0.665754\n",
       "military                 0.938166  0.511388  0.649017\n",
       "water                    0.933736  0.564943  0.670840\n",
       "food                     0.882806  0.610649  0.682194\n",
       "shelter                  0.899278  0.583102  0.668006\n",
       "clothing                 0.973688  0.509849  0.660508\n",
       "money                    0.963162  0.508002  0.654567\n",
       "missing_people           0.977688  0.509695  0.663849\n",
       "refugees                 0.943470  0.503386  0.638157\n",
       "death                    0.931181  0.519083  0.641734\n",
       "other_aid                0.845036  0.586334  0.656624\n",
       "infrastructure_related   0.890570  0.535242  0.644128\n",
       "transport                0.921882  0.517082  0.643581\n",
       "buildings                0.923694  0.541551  0.656601\n",
       "electricity              0.964261  0.497076  0.646382\n",
       "tools                    0.990447  0.511542  0.671501\n",
       "hospitals                0.975831  0.511234  0.667279\n",
       "shops                    0.988954  0.511542  0.671813\n",
       "aid_centers              0.978008  0.503386  0.659142\n",
       "other_infrastructure     0.923274  0.518775  0.644722\n",
       "weather_related          0.829076  0.781010  0.790729\n",
       "floods                   0.892072  0.556017  0.649689\n",
       "storm                    0.887729  0.586180  0.668960\n",
       "fire                     0.977010  0.505386  0.661692\n",
       "earthquake               0.911193  0.608187  0.689085\n",
       "cold                     0.958955  0.505540  0.653890\n",
       "other_weather            0.907811  0.519083  0.638927\n",
       "direct_report            0.792098  0.633887  0.672063"
      ]
     },
     "execution_count": 64,
     "metadata": {},
     "output_type": "execute_result"
    }
   ],
   "source": [
    "avg_scores = []\n",
    "Y_pred = pipeline0.predict(x_test)\n",
    "for i in range(Y_pred.shape[1]):\n",
    "#     print(f'====={Y_test.columns[i]}=====')\n",
    "    d = classification_report(Y_test.values[:,i], Y_pred[:,i], output_dict=True)\n",
    "    avg_scores.append(d['weighted avg'])\n",
    "\n",
    "result = pd.DataFrame.from_records(avg_scores, index=Y_test.columns.to_list()).drop('support', axis=1)\n",
    "print('Mean F1 score:\\n', result.mean())\n",
    "result"
   ]
  },
  {
   "cell_type": "code",
   "execution_count": 65,
   "metadata": {},
   "outputs": [
    {
     "data": {
      "text/plain": [
       "{'memory': None,\n",
       " 'steps': [('vect', CountVectorizer(max_df=0.1, min_df=30,\n",
       "                   tokenizer=<function tokenize at 0x7fd2e00b8d30>)),\n",
       "  ('tfidf', TfidfTransformer()),\n",
       "  ('clf',\n",
       "   MultiOutputClassifier(estimator=RidgeClassifier(class_weight='balanced')))],\n",
       " 'verbose': 1,\n",
       " 'vect': CountVectorizer(max_df=0.1, min_df=30,\n",
       "                 tokenizer=<function tokenize at 0x7fd2e00b8d30>),\n",
       " 'tfidf': TfidfTransformer(),\n",
       " 'clf': MultiOutputClassifier(estimator=RidgeClassifier(class_weight='balanced')),\n",
       " 'vect__analyzer': 'word',\n",
       " 'vect__binary': False,\n",
       " 'vect__decode_error': 'strict',\n",
       " 'vect__dtype': numpy.int64,\n",
       " 'vect__encoding': 'utf-8',\n",
       " 'vect__input': 'content',\n",
       " 'vect__lowercase': True,\n",
       " 'vect__max_df': 0.1,\n",
       " 'vect__max_features': None,\n",
       " 'vect__min_df': 30,\n",
       " 'vect__ngram_range': (1, 1),\n",
       " 'vect__preprocessor': None,\n",
       " 'vect__stop_words': None,\n",
       " 'vect__strip_accents': None,\n",
       " 'vect__token_pattern': '(?u)\\\\b\\\\w\\\\w+\\\\b',\n",
       " 'vect__tokenizer': <function __main__.tokenize(text)>,\n",
       " 'vect__vocabulary': None,\n",
       " 'tfidf__norm': 'l2',\n",
       " 'tfidf__smooth_idf': True,\n",
       " 'tfidf__sublinear_tf': False,\n",
       " 'tfidf__use_idf': True,\n",
       " 'clf__estimator__alpha': 1.0,\n",
       " 'clf__estimator__class_weight': 'balanced',\n",
       " 'clf__estimator__copy_X': True,\n",
       " 'clf__estimator__fit_intercept': True,\n",
       " 'clf__estimator__max_iter': None,\n",
       " 'clf__estimator__normalize': False,\n",
       " 'clf__estimator__random_state': None,\n",
       " 'clf__estimator__solver': 'auto',\n",
       " 'clf__estimator__tol': 0.001,\n",
       " 'clf__estimator': RidgeClassifier(class_weight='balanced'),\n",
       " 'clf__n_jobs': None}"
      ]
     },
     "execution_count": 65,
     "metadata": {},
     "output_type": "execute_result"
    }
   ],
   "source": [
    "pipeline0.get_params()"
   ]
  },
  {
   "cell_type": "markdown",
   "metadata": {},
   "source": [
    "### 6. Improve your model\n",
    "Use grid search to find better parameters. "
   ]
  },
  {
   "cell_type": "code",
   "execution_count": 77,
   "metadata": {},
   "outputs": [],
   "source": [
    "pipeline = Pipeline([\n",
    "    ('vect', CountVectorizer(tokenizer=tokenize)),\n",
    "    ('tfidf', TfidfTransformer()),\n",
    "    ('clf', MultiOutputClassifier(RidgeClassifier()))\n",
    "], verbose=1)\n",
    "\n",
    "parameters = {\n",
    "    'vect__max_df': [0.2, .15, .1, .05],\n",
    "    'vect__min_df': [15, 20, 25, 30],\n",
    "    'tfidf__norm': ['l1', 'l2'],\n",
    "    'tfidf__smooth_idf': [True],\n",
    "    'clf__estimator__alpha': [0.01, 0.05, 0.1, 0.15, 0.2],\n",
    "    'clf__estimator__normalize': [True],\n",
    "    'clf__estimator__solver': ['auto'],\n",
    "    'clf__estimator__class_weight': ['balanced'],\n",
    "}\n",
    "\n",
    "cv = GridSearchCV(pipeline, parameters, verbose=1, cv=5)"
   ]
  },
  {
   "cell_type": "code",
   "execution_count": null,
   "metadata": {},
   "outputs": [],
   "source": [
    "%%time\n",
    "with parallel_backend('threading', n_jobs=5):\n",
    "    cv.fit(x_train, Y_train)"
   ]
  },
  {
   "cell_type": "code",
   "execution_count": 77,
   "metadata": {},
   "outputs": [],
   "source": [
    "```\n",
    "Fitting 5 folds for each of 160 candidates, totalling 800 fits\n",
    "Wall time: 3h 45min 50s\n",
    "\n",
    "Best params:\n",
    "{'clf__estimator__alpha': 0.2,\n",
    " 'clf__estimator__class_weight': 'balanced',\n",
    " 'clf__estimator__normalize': True,\n",
    " 'clf__estimator__solver': 'auto',\n",
    " 'tfidf__norm': 'l2',\n",
    " 'tfidf__smooth_idf': True,\n",
    " 'vect__max_df': 0.2,\n",
    " 'vect__min_df': 15}\n",
    "```"
   ]
  },
  {
   "cell_type": "code",
   "execution_count": 12,
   "metadata": {},
   "outputs": [],
   "source": [
    "pipeline = Pipeline([\n",
    "    ('vect', CountVectorizer(tokenizer=tokenize)),\n",
    "    ('tfidf', TfidfTransformer()),\n",
    "    ('clf', MultiOutputClassifier(RidgeClassifier()))\n",
    "], verbose=1)\n",
    "\n",
    "parameters = {\n",
    "    'vect__max_df': [0.2, .25],\n",
    "    'vect__min_df': [15, 10, 5, 4, 3],\n",
    "    'tfidf__norm': ['l2'],\n",
    "    'tfidf__smooth_idf': [True],\n",
    "    'clf__estimator__alpha': [0.25, 0.3, 0.35, 0.4],\n",
    "    'clf__estimator__normalize': [True],\n",
    "    'clf__estimator__solver': ['auto'],\n",
    "    'clf__estimator__class_weight': ['balanced'],\n",
    "}\n",
    "\n",
    "cv = GridSearchCV(pipeline, parameters, verbose=1, cv=5)"
   ]
  },
  {
   "cell_type": "code",
   "execution_count": 14,
   "metadata": {},
   "outputs": [
    {
     "ename": "ModuleNotFoundError",
     "evalue": "No module named 'loky'",
     "output_type": "error",
     "traceback": [
      "\u001b[0;31m---------------------------------------------------------------------------\u001b[0m",
      "\u001b[0;31mModuleNotFoundError\u001b[0m                       Traceback (most recent call last)",
      "\u001b[0;32m<ipython-input-14-c0bb3c8482b6>\u001b[0m in \u001b[0;36m<module>\u001b[0;34m\u001b[0m\n\u001b[0;32m----> 1\u001b[0;31m \u001b[0;32mfrom\u001b[0m \u001b[0mloky\u001b[0m \u001b[0;32mimport\u001b[0m \u001b[0mset_loky_pickler\u001b[0m\u001b[0;34m\u001b[0m\u001b[0;34m\u001b[0m\u001b[0m\n\u001b[0m",
      "\u001b[0;31mModuleNotFoundError\u001b[0m: No module named 'loky'"
     ]
    }
   ],
   "source": [
   ]
  },
  {
   "cell_type": "code",
   "execution_count": 93,
   "metadata": {},
   "outputs": [],
   "source": [
    "%%time\n",
    "with parallel_backend('loky', n_jobs=5):\n",
    "    cv.fit(x_train, Y_train)"
   ]
  },
  {
   "cell_type": "markdown",
   "metadata": {},
   "source": [
    "```\n",
    "Fitting 5 folds for each of 40 candidates, totalling 200 fits\n",
    "Wall time: 14min 35s\n",
    "\n",
    "Best params:\n",
    "{'clf__estimator__alpha': 0.3,\n",
    " 'clf__estimator__class_weight': 'balanced',\n",
    " 'clf__estimator__normalize': True,\n",
    " 'clf__estimator__solver': 'auto',\n",
    " 'tfidf__norm': 'l2',\n",
    " 'tfidf__smooth_idf': True,\n",
    " 'vect__max_df': 0.2,\n",
    " 'vect__min_df': 3}\n",
    "```"
   ]
  },
  {
   "cell_type": "code",
   "execution_count": 98,
   "metadata": {},
   "outputs": [
    {
     "data": {
      "text/plain": [
       "{'clf__estimator__alpha': [0.3],\n",
       " 'clf__estimator__class_weight': ['balanced'],\n",
       " 'clf__estimator__normalize': [True],\n",
       " 'clf__estimator__solver': ['auto'],\n",
       " 'tfidf__norm': ['l2'],\n",
       " 'tfidf__smooth_idf': [True],\n",
       " 'vect__max_df': [0.2],\n",
       " 'vect__min_df': [3]}"
      ]
     },
     "execution_count": 98,
     "metadata": {},
     "output_type": "execute_result"
    }
   ],
   "source": [
    "best_params = {key: [val] for key, val in cv.best_params_.items()}\n",
    "best_params"
   ]
  },
  {
   "cell_type": "code",
   "execution_count": 99,
   "metadata": {},
   "outputs": [
    {
     "name": "stdout",
     "output_type": "stream",
     "text": [
      "Fitting 5 folds for each of 1 candidates, totalling 5 fits\n"
     ]
    },
    {
     "name": "stderr",
     "output_type": "stream",
     "text": [
      "[Parallel(n_jobs=2)]: Using backend LokyBackend with 2 concurrent workers.\n",
      "[Parallel(n_jobs=2)]: Done   5 out of   5 | elapsed:   54.9s finished\n"
     ]
    },
    {
     "name": "stdout",
     "output_type": "stream",
     "text": [
      "[Pipeline] .............. (step 1 of 3) Processing vect, total=  16.5s\n",
      "[Pipeline] ............. (step 2 of 3) Processing tfidf, total=   0.0s\n",
      "[Pipeline] ............... (step 3 of 3) Processing clf, total=   0.8s\n"
     ]
    }
   ],
   "source": [
    "with parallel_backend('loky', n_jobs=2):\n",
    "    model = GridSearchCV(pipeline, best_params, verbose=1, cv=5)\n",
    "    model.fit(x_train, Y_train)"
   ]
  },
  {
   "cell_type": "markdown",
   "metadata": {},
   "source": [
    "### 7. Test your model\n",
    "Show the accuracy, precision, and recall of the tuned model.  \n",
    "\n",
    "Since this project focuses on code quality, process, and  pipelines, there is no minimum performance metric needed to pass. However, make sure to fine tune your models for accuracy, precision and recall to make your project stand out - especially for your portfolio!"
   ]
  },
  {
   "cell_type": "code",
   "execution_count": 100,
   "metadata": {},
   "outputs": [
    {
     "data": {
      "text/plain": [
       "0.14373653431825176"
      ]
     },
     "execution_count": 100,
     "metadata": {},
     "output_type": "execute_result"
    }
   ],
   "source": [
    "model.score(x_test, Y_test)"
   ]
  },
  {
   "cell_type": "code",
   "execution_count": 102,
   "metadata": {},
   "outputs": [
    {
     "name": "stdout",
     "output_type": "stream",
     "text": [
      "Mean scores:\n",
      "precision    0.919227\n",
      "recall       0.587366\n",
      "f1-score     0.696579\n",
      "dtype: float64\n"
     ]
    },
    {
     "data": {
      "text/html": [
       "<div>\n",
       "<style scoped>\n",
       "    .dataframe tbody tr th:only-of-type {\n",
       "        vertical-align: middle;\n",
       "    }\n",
       "\n",
       "    .dataframe tbody tr th {\n",
       "        vertical-align: top;\n",
       "    }\n",
       "\n",
       "    .dataframe thead th {\n",
       "        text-align: right;\n",
       "    }\n",
       "</style>\n",
       "<table border=\"1\" class=\"dataframe\">\n",
       "  <thead>\n",
       "    <tr style=\"text-align: right;\">\n",
       "      <th></th>\n",
       "      <th>precision</th>\n",
       "      <th>recall</th>\n",
       "      <th>f1-score</th>\n",
       "    </tr>\n",
       "  </thead>\n",
       "  <tbody>\n",
       "    <tr>\n",
       "      <th>request</th>\n",
       "      <td>0.832641</td>\n",
       "      <td>0.665897</td>\n",
       "      <td>0.707285</td>\n",
       "    </tr>\n",
       "    <tr>\n",
       "      <th>offer</th>\n",
       "      <td>0.993319</td>\n",
       "      <td>0.561711</td>\n",
       "      <td>0.716012</td>\n",
       "    </tr>\n",
       "    <tr>\n",
       "      <th>aid_related</th>\n",
       "      <td>0.751883</td>\n",
       "      <td>0.743306</td>\n",
       "      <td>0.745062</td>\n",
       "    </tr>\n",
       "    <tr>\n",
       "      <th>medical_help</th>\n",
       "      <td>0.883394</td>\n",
       "      <td>0.576639</td>\n",
       "      <td>0.670071</td>\n",
       "    </tr>\n",
       "    <tr>\n",
       "      <th>medical_products</th>\n",
       "      <td>0.925666</td>\n",
       "      <td>0.562635</td>\n",
       "      <td>0.678874</td>\n",
       "    </tr>\n",
       "    <tr>\n",
       "      <th>search_and_rescue</th>\n",
       "      <td>0.956314</td>\n",
       "      <td>0.561865</td>\n",
       "      <td>0.696663</td>\n",
       "    </tr>\n",
       "    <tr>\n",
       "      <th>security</th>\n",
       "      <td>0.968412</td>\n",
       "      <td>0.561711</td>\n",
       "      <td>0.704292</td>\n",
       "    </tr>\n",
       "    <tr>\n",
       "      <th>military</th>\n",
       "      <td>0.939686</td>\n",
       "      <td>0.552170</td>\n",
       "      <td>0.683909</td>\n",
       "    </tr>\n",
       "    <tr>\n",
       "      <th>water</th>\n",
       "      <td>0.925580</td>\n",
       "      <td>0.586950</td>\n",
       "      <td>0.690331</td>\n",
       "    </tr>\n",
       "    <tr>\n",
       "      <th>food</th>\n",
       "      <td>0.894158</td>\n",
       "      <td>0.653740</td>\n",
       "      <td>0.718240</td>\n",
       "    </tr>\n",
       "    <tr>\n",
       "      <th>shelter</th>\n",
       "      <td>0.890901</td>\n",
       "      <td>0.609110</td>\n",
       "      <td>0.690739</td>\n",
       "    </tr>\n",
       "    <tr>\n",
       "      <th>clothing</th>\n",
       "      <td>0.971204</td>\n",
       "      <td>0.562173</td>\n",
       "      <td>0.705593</td>\n",
       "    </tr>\n",
       "    <tr>\n",
       "      <th>money</th>\n",
       "      <td>0.961342</td>\n",
       "      <td>0.563558</td>\n",
       "      <td>0.702366</td>\n",
       "    </tr>\n",
       "    <tr>\n",
       "      <th>missing_people</th>\n",
       "      <td>0.977238</td>\n",
       "      <td>0.559557</td>\n",
       "      <td>0.706463</td>\n",
       "    </tr>\n",
       "    <tr>\n",
       "      <th>refugees</th>\n",
       "      <td>0.941432</td>\n",
       "      <td>0.559865</td>\n",
       "      <td>0.687495</td>\n",
       "    </tr>\n",
       "    <tr>\n",
       "      <th>death</th>\n",
       "      <td>0.925589</td>\n",
       "      <td>0.561711</td>\n",
       "      <td>0.679460</td>\n",
       "    </tr>\n",
       "    <tr>\n",
       "      <th>other_aid</th>\n",
       "      <td>0.835999</td>\n",
       "      <td>0.590335</td>\n",
       "      <td>0.660458</td>\n",
       "    </tr>\n",
       "    <tr>\n",
       "      <th>infrastructure_related</th>\n",
       "      <td>0.890022</td>\n",
       "      <td>0.565405</td>\n",
       "      <td>0.670072</td>\n",
       "    </tr>\n",
       "    <tr>\n",
       "      <th>transport</th>\n",
       "      <td>0.922005</td>\n",
       "      <td>0.553093</td>\n",
       "      <td>0.674726</td>\n",
       "    </tr>\n",
       "    <tr>\n",
       "      <th>buildings</th>\n",
       "      <td>0.916777</td>\n",
       "      <td>0.568637</td>\n",
       "      <td>0.680557</td>\n",
       "    </tr>\n",
       "    <tr>\n",
       "      <th>electricity</th>\n",
       "      <td>0.963127</td>\n",
       "      <td>0.557402</td>\n",
       "      <td>0.698687</td>\n",
       "    </tr>\n",
       "    <tr>\n",
       "      <th>tools</th>\n",
       "      <td>0.991063</td>\n",
       "      <td>0.559711</td>\n",
       "      <td>0.712330</td>\n",
       "    </tr>\n",
       "    <tr>\n",
       "      <th>hospitals</th>\n",
       "      <td>0.978180</td>\n",
       "      <td>0.552939</td>\n",
       "      <td>0.702445</td>\n",
       "    </tr>\n",
       "    <tr>\n",
       "      <th>shops</th>\n",
       "      <td>0.990220</td>\n",
       "      <td>0.556941</td>\n",
       "      <td>0.710206</td>\n",
       "    </tr>\n",
       "    <tr>\n",
       "      <th>aid_centers</th>\n",
       "      <td>0.978991</td>\n",
       "      <td>0.555248</td>\n",
       "      <td>0.703487</td>\n",
       "    </tr>\n",
       "    <tr>\n",
       "      <th>other_infrastructure</th>\n",
       "      <td>0.922314</td>\n",
       "      <td>0.559557</td>\n",
       "      <td>0.679975</td>\n",
       "    </tr>\n",
       "    <tr>\n",
       "      <th>weather_related</th>\n",
       "      <td>0.811882</td>\n",
       "      <td>0.763466</td>\n",
       "      <td>0.773932</td>\n",
       "    </tr>\n",
       "    <tr>\n",
       "      <th>floods</th>\n",
       "      <td>0.880625</td>\n",
       "      <td>0.583256</td>\n",
       "      <td>0.674097</td>\n",
       "    </tr>\n",
       "    <tr>\n",
       "      <th>storm</th>\n",
       "      <td>0.881647</td>\n",
       "      <td>0.608033</td>\n",
       "      <td>0.687891</td>\n",
       "    </tr>\n",
       "    <tr>\n",
       "      <th>fire</th>\n",
       "      <td>0.977592</td>\n",
       "      <td>0.558172</td>\n",
       "      <td>0.706702</td>\n",
       "    </tr>\n",
       "    <tr>\n",
       "      <th>earthquake</th>\n",
       "      <td>0.903095</td>\n",
       "      <td>0.622191</td>\n",
       "      <td>0.701337</td>\n",
       "    </tr>\n",
       "    <tr>\n",
       "      <th>cold</th>\n",
       "      <td>0.961147</td>\n",
       "      <td>0.556325</td>\n",
       "      <td>0.697097</td>\n",
       "    </tr>\n",
       "    <tr>\n",
       "      <th>other_weather</th>\n",
       "      <td>0.908544</td>\n",
       "      <td>0.562327</td>\n",
       "      <td>0.676143</td>\n",
       "    </tr>\n",
       "    <tr>\n",
       "      <th>direct_report</th>\n",
       "      <td>0.801712</td>\n",
       "      <td>0.654817</td>\n",
       "      <td>0.690690</td>\n",
       "    </tr>\n",
       "  </tbody>\n",
       "</table>\n",
       "</div>"
      ],
      "text/plain": [
       "                        precision    recall  f1-score\n",
       "request                  0.832641  0.665897  0.707285\n",
       "offer                    0.993319  0.561711  0.716012\n",
       "aid_related              0.751883  0.743306  0.745062\n",
       "medical_help             0.883394  0.576639  0.670071\n",
       "medical_products         0.925666  0.562635  0.678874\n",
       "search_and_rescue        0.956314  0.561865  0.696663\n",
       "security                 0.968412  0.561711  0.704292\n",
       "military                 0.939686  0.552170  0.683909\n",
       "water                    0.925580  0.586950  0.690331\n",
       "food                     0.894158  0.653740  0.718240\n",
       "shelter                  0.890901  0.609110  0.690739\n",
       "clothing                 0.971204  0.562173  0.705593\n",
       "money                    0.961342  0.563558  0.702366\n",
       "missing_people           0.977238  0.559557  0.706463\n",
       "refugees                 0.941432  0.559865  0.687495\n",
       "death                    0.925589  0.561711  0.679460\n",
       "other_aid                0.835999  0.590335  0.660458\n",
       "infrastructure_related   0.890022  0.565405  0.670072\n",
       "transport                0.922005  0.553093  0.674726\n",
       "buildings                0.916777  0.568637  0.680557\n",
       "electricity              0.963127  0.557402  0.698687\n",
       "tools                    0.991063  0.559711  0.712330\n",
       "hospitals                0.978180  0.552939  0.702445\n",
       "shops                    0.990220  0.556941  0.710206\n",
       "aid_centers              0.978991  0.555248  0.703487\n",
       "other_infrastructure     0.922314  0.559557  0.679975\n",
       "weather_related          0.811882  0.763466  0.773932\n",
       "floods                   0.880625  0.583256  0.674097\n",
       "storm                    0.881647  0.608033  0.687891\n",
       "fire                     0.977592  0.558172  0.706702\n",
       "earthquake               0.903095  0.622191  0.701337\n",
       "cold                     0.961147  0.556325  0.697097\n",
       "other_weather            0.908544  0.562327  0.676143\n",
       "direct_report            0.801712  0.654817  0.690690"
      ]
     },
     "execution_count": 102,
     "metadata": {},
     "output_type": "execute_result"
    }
   ],
   "source": [
    "avg_scores = []\n",
    "Y_pred = model.predict(x_test)\n",
    "for i in range(Y_pred.shape[1]):\n",
    "    d = classification_report(Y_test.values[:,i], Y_pred[:,i], output_dict=True)\n",
    "    avg_scores.append(d['weighted avg'])\n",
    "\n",
    "result2 = pd.DataFrame.from_records(avg_scores, index=Y_test.columns.to_list()).drop('support', axis=1)\n",
    "print('Mean scores:')\n",
    "print(result2.mean())\n",
    "result2"
   ]
  },
  {
   "cell_type": "markdown",
   "metadata": {},
   "source": [
    "### 9. Export your model as a pickle file"
   ]
  },
  {
   "cell_type": "code",
   "execution_count": 103,
   "metadata": {},
   "outputs": [],
   "source": [
    "import pickle\n",
    "\n",
    "with open('model.pkl', 'wb') as file:\n",
    "    pickle.dump(model, file)"
   ]
  },
  {
   "cell_type": "markdown",
   "metadata": {},
   "source": [
    "### 10. Use this notebook to complete `train.py`\n",
    "Use the template file attached in the Resources folder to write a script that runs the steps above to create a database and export a model based on a new dataset specified by the user."
   ]
  },
  {
   "cell_type": "code",
   "execution_count": 20,
   "metadata": {},
   "outputs": [
    {
     "ename": "NameError",
     "evalue": "name 'sklearn' is not defined",
     "output_type": "error",
     "traceback": [
      "\u001b[0;31m---------------------------------------------------------------------------\u001b[0m",
      "\u001b[0;31mNameError\u001b[0m                                 Traceback (most recent call last)",
      "\u001b[0;32m<ipython-input-20-b3fcda1f768a>\u001b[0m in \u001b[0;36m<module>\u001b[0;34m\u001b[0m\n\u001b[0;32m----> 1\u001b[0;31m \u001b[0msklearn\u001b[0m\u001b[0;34m\u001b[0m\u001b[0;34m\u001b[0m\u001b[0m\n\u001b[0m",
      "\u001b[0;31mNameError\u001b[0m: name 'sklearn' is not defined"
     ]
    }
   ],
   "source": [
    "sklearn"
   ]
  },
  {
   "cell_type": "code",
   "execution_count": null,
   "metadata": {},
   "outputs": [],
   "source": []
  }
 ],
 "metadata": {
  "kernelspec": {
   "display_name": "pipeline-project",
   "language": "python",
   "name": "pipeline-project"
  },
  "language_info": {
   "codemirror_mode": {
    "name": "ipython",
    "version": 3
   },
   "file_extension": ".py",
   "mimetype": "text/x-python",
   "name": "python",
   "nbconvert_exporter": "python",
   "pygments_lexer": "ipython3",
   "version": "3.8.11"
  }
 },
 "nbformat": 4,
 "nbformat_minor": 4
}
